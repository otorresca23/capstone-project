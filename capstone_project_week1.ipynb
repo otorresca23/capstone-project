{
 "cells": [
  {
   "cell_type": "markdown",
   "metadata": {},
   "source": [
    "<h1><center>CAPSTONE PROJECT (WEEK 1)</center></h1>"
   ]
  },
  {
   "cell_type": "markdown",
   "metadata": {},
   "source": [
    "<u>Clearly define a problem or an idea of your choice, where you would need to leverage the Foursquare location data to solve or execute. Remember that data science problems always target an audience and are meant to help a group of stakeholders solve a problem, so make sure that you explicitly describe your audience and why they would care about your problem.</u>\n",
    "\n",
    "<u>This submission will eventually become your Introduction/Business Problem section in your final report. So I recommend that you push the report (having your Introduction/Business Problem section only for now) to your Github repository and submit a link to it.</u>"
   ]
  },
  {
   "cell_type": "markdown",
   "metadata": {},
   "source": [
    "<h2>Description of the problem and discussion of the background</h2>"
   ]
  },
  {
   "cell_type": "markdown",
   "metadata": {},
   "source": [
    "The objective of this project is to find optimal spaces to <strong>establish gyms in Mexico City</strong>. The study will focus on <strong>prosperous places</strong>, where the <strong>offer of gyms is not very high</strong> compared to other places and their <strong>characteristics are optimal</strong> to achieve the success.\n",
    "\n",
    "The <strong>overweight and obesity in Mexico</strong> is one of the main aspects that motivate the analysis of this market and that translates into an <strong>extraordinary business opportunity</strong> due to the unfortunate and <strong>serious public health problem</strong> that it has become in that country.\n",
    "\n",
    "The study is targeted at <strong>gym entrepreneurs and future entrepreneurs</strong> who are considering venturing into this sector. The findings will allow to stakeholders to <strong>have more information that results in better business decisions</strong>."
   ]
  },
  {
   "cell_type": "markdown",
   "metadata": {},
   "source": [
    "<u>Describe the data that you will be using to solve the problem or execute your idea. Remember that you will need to use the Foursquare location data to solve the problem or execute your idea. You can absolutely use other datasets in combination with the Foursquare location data. So make sure that you provide adequate explanation and discussion, with examples, of the data that you will be using, even if it is only Foursquare location data.</u>\n",
    "\n",
    "<u>This submission will eventually become your Data section in your final report. So I recommend that you push the report (having your Data section) to your Github repository and submit a link to it.</u>"
   ]
  },
  {
   "cell_type": "markdown",
   "metadata": {},
   "source": [
    "<h2>Description of the data and how it will be used to solve the problem<h2>"
   ]
  },
  {
   "cell_type": "markdown",
   "metadata": {},
   "source": [
    "To achieve the objective of the project, the following information is required:\n",
    "<ul>\n",
    "<li>Indicator that measures the <strong>prosperity of places</strong></li>\n",
    "<li><strong>Population</strong> and land area data</li>\n",
    "<li>Number and location of existing <strong>gyms in Mexico City</strong></li>\n",
    "<li>Information on the <strong>most common places</strong></li>\n",
    "</ul>\n",
    "\n",
    "The population and gym data available in Mexico City will allow us to have a clear picture of the state that saves this market. The data will be divided by borough and in turn we will obtain the information of the neighborhoods that make up each of the boroughts. We will choose a borough that we can consider optimal to develop this project. To choose the borough where we will deepen the analysis, we will also consider the most appropriate information we find about the prosperity of the boroughts.\n",
    "\n",
    "Finally, we will explore the 10 most common places in each of the neighborhoods of the borough chosen to develop the project, this will be done through the Foursquare API."
   ]
  }
 ],
 "metadata": {
  "kernelspec": {
   "display_name": "Python 3",
   "language": "python",
   "name": "python3"
  },
  "language_info": {
   "codemirror_mode": {
    "name": "ipython",
    "version": 3
   },
   "file_extension": ".py",
   "mimetype": "text/x-python",
   "name": "python",
   "nbconvert_exporter": "python",
   "pygments_lexer": "ipython3",
   "version": "3.7.3"
  }
 },
 "nbformat": 4,
 "nbformat_minor": 2
}
